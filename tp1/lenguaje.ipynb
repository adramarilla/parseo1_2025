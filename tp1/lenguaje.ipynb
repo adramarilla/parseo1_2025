{
 "cells": [
  {
   "cell_type": "markdown",
   "id": "339b73b3-3b1c-4557-b285-de10177f9ece",
   "metadata": {},
   "source": [
    "# TP Introducción\n",
    "---"
   ]
  },
  {
   "cell_type": "markdown",
   "id": "14578311-401c-4d2a-b6ab-74d488448a12",
   "metadata": {},
   "source": [
    "## Lenguaje a crear"
   ]
  },
  {
   "cell_type": "markdown",
   "id": "3cbd96bc-7509-4909-9ffc-30f12a9433a1",
   "metadata": {},
   "source": [
    "### Objetivo\n",
    "\n",
    "Lenguaje de Configuración y Despliegue para Servicios (Estilo Ansible simplificado)"
   ]
  },
  {
   "cell_type": "markdown",
   "id": "72e244b4-a7b5-44ff-9c81-f2de96871542",
   "metadata": {},
   "source": [
    "### Alcance\n",
    "\n",
    "Realizar herramienta de automatización para configuración de servidores y realizar acciones de manera declarativa."
   ]
  },
  {
   "cell_type": "markdown",
   "id": "aa8516b2-701f-4afe-aafc-5a2acfda3df6",
   "metadata": {},
   "source": [
    "### Especificaciones léxicas\n",
    "\n",
    "- **Palabras clave:** SERVIDOR, GRUPO, DESPLEGAR, ARCHIVO, PAQUETE, SERVICIO, EJECUTAR, COPIAR_DESDE, EN, CON, VERIFICAR, SI, NO_EXISTE\n",
    "- **Identificadores:** Nombres de servidores (\"web01\", \"db_production\"), nombres de grupos (\"webservers\", \"databases\"), nombres de paquetes (\"nginx\", \"nodejs\"), rutas (\"/var/www/app\").\n",
    "- **Literales:** Strings (para comandos, rutas, contenido), números (para puertos).\n",
    "- **Operadores:** =, ==, !=, >, < (para comparaciones en verificaciones).\n",
    "- **Símbolos:** {, }, [, ], (, ), :, - (para bloques, listas y parámetros)."
   ]
  },
  {
   "cell_type": "markdown",
   "id": "a3034dce-4b36-4e2c-b264-d2e388087546",
   "metadata": {},
   "source": [
    "### Especificaciones sintácticas\n",
    "\n",
    "```text\n",
    "# Definir un grupo de servidores\n",
    "GRUPO webservers {\n",
    "    SERVIDOR \"web01\" DIRECCION = \"192.168.1.10\"\n",
    "    SERVIDOR \"web02\" DIRECCION = \"192.168.1.11\"\n",
    "}\n",
    "\n",
    "# Definir la tarea de despliegue para el grupo\n",
    "DESPLEGAR mi_aplicacion EN webservers {\n",
    "\n",
    "    # Garantizar que un paquete está instalado\n",
    "    PAQUETE \"nginx\" DEBE_ESTAR_INSTALADO\n",
    "\n",
    "    # Garantizar que un servicio está ejecutándose\n",
    "    SERVICIO \"nginx\" DEBE_ESTAR_EN_EJECUCION\n",
    "\n",
    "    # Copiar archivos locales al servidor\n",
    "    COPIAR_DESDE \"./app/*\" HACIA \"/var/www/html/\"\n",
    "}\n",
    "```"
   ]
  },
  {
   "cell_type": "markdown",
   "id": "cdbe9002-6fba-404a-89d2-90d55294b58e",
   "metadata": {},
   "source": [
    "### Especificaciones semánticas\n",
    "\n",
    "- Verificar que los grupos y servidores referenciados en un **DESPLEGAR ... EN** existan.\n",
    "- **Análisis de tipos:** Asegurar que `DIRECCION` sea un string, que el puerto en `VERIFICAR` sea un número.\n",
    "- **Chequeos de contexto:** No permitir `COPIAR_DESDE` fuera de un bloque `DESPLEGAR`.\n",
    "- **Tabla de símbolos:** Llevar un registro de todos los servidores, grupos y sus propiedades."
   ]
  }
 ],
 "metadata": {
  "kernelspec": {
   "display_name": "Python 3",
   "language": "python",
   "name": "python3"
  },
  "language_info": {
   "name": "python",
   "version": "3.12.7"
  }
 },
 "nbformat": 4,
 "nbformat_minor": 5
}

